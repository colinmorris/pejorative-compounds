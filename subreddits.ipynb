{
 "cells": [
  {
   "cell_type": "code",
   "execution_count": 1,
   "id": "diverse-stand",
   "metadata": {},
   "outputs": [
    {
     "data": {
      "text/html": [
       "<div>\n",
       "<style scoped>\n",
       "    .dataframe tbody tr th:only-of-type {\n",
       "        vertical-align: middle;\n",
       "    }\n",
       "\n",
       "    .dataframe tbody tr th {\n",
       "        vertical-align: top;\n",
       "    }\n",
       "\n",
       "    .dataframe thead th {\n",
       "        text-align: right;\n",
       "    }\n",
       "</style>\n",
       "<table border=\"1\" class=\"dataframe\">\n",
       "  <thead>\n",
       "    <tr style=\"text-align: right;\">\n",
       "      <th></th>\n",
       "      <th>pre</th>\n",
       "      <th>suff</th>\n",
       "      <th>sub</th>\n",
       "      <th>count</th>\n",
       "    </tr>\n",
       "  </thead>\n",
       "  <tbody>\n",
       "    <tr>\n",
       "      <th>0</th>\n",
       "      <td>cum</td>\n",
       "      <td>wad</td>\n",
       "      <td>stfuretard</td>\n",
       "      <td>1.0</td>\n",
       "    </tr>\n",
       "    <tr>\n",
       "      <th>1</th>\n",
       "      <td>cum</td>\n",
       "      <td>wad</td>\n",
       "      <td>TwoXChromosomes</td>\n",
       "      <td>1.0</td>\n",
       "    </tr>\n",
       "    <tr>\n",
       "      <th>2</th>\n",
       "      <td>cum</td>\n",
       "      <td>wad</td>\n",
       "      <td>mendrawingwomen</td>\n",
       "      <td>1.0</td>\n",
       "    </tr>\n",
       "    <tr>\n",
       "      <th>3</th>\n",
       "      <td>cum</td>\n",
       "      <td>wad</td>\n",
       "      <td>blackopscoldwar</td>\n",
       "      <td>1.0</td>\n",
       "    </tr>\n",
       "    <tr>\n",
       "      <th>4</th>\n",
       "      <td>cum</td>\n",
       "      <td>wad</td>\n",
       "      <td>HolUp</td>\n",
       "      <td>1.0</td>\n",
       "    </tr>\n",
       "  </tbody>\n",
       "</table>\n",
       "</div>"
      ],
      "text/plain": [
       "   pre suff              sub  count\n",
       "0  cum  wad       stfuretard    1.0\n",
       "1  cum  wad  TwoXChromosomes    1.0\n",
       "2  cum  wad  mendrawingwomen    1.0\n",
       "3  cum  wad  blackopscoldwar    1.0\n",
       "4  cum  wad            HolUp    1.0"
      ]
     },
     "execution_count": 1,
     "metadata": {},
     "output_type": "execute_result"
    }
   ],
   "source": [
    "%matplotlib inline\n",
    "import pandas as pd\n",
    "import numpy as np\n",
    "import matplotlib as mpl\n",
    "from matplotlib import pyplot as plt\n",
    "import seaborn as sns\n",
    "\n",
    "from heatmap import make_heatmap, matricize_df\n",
    "from viz_helpers import load_df\n",
    "\n",
    "# Seaborn style defaults. Relevant changes for us are default font, and no ticks for heatmaps\n",
    "sns.set_theme()\n",
    "\n",
    "pd.set_option('display.max_rows', 100)\n",
    "\n",
    "df = load_df('sub_counts.csv', wikt=False)\n",
    "\n",
    "#mat = matricize_df(df)\n",
    "df.head(5)"
   ]
  },
  {
   "cell_type": "code",
   "execution_count": 3,
   "id": "hydraulic-ratio",
   "metadata": {},
   "outputs": [
    {
     "name": "stdout",
     "output_type": "stream",
     "text": [
      "Loaded counts for 41,541 distinct subs.\n"
     ]
    },
    {
     "data": {
      "text/plain": [
       "count    4.154100e+04\n",
       "mean     3.490480e+02\n",
       "std      6.829428e+03\n",
       "min      1.000000e+00\n",
       "25%      1.000000e+00\n",
       "50%      1.217500e+01\n",
       "75%      3.952500e+01\n",
       "max      1.054879e+06\n",
       "Name: count, dtype: float64"
      ]
     },
     "execution_count": 3,
     "metadata": {},
     "output_type": "execute_result"
    }
   ],
   "source": [
    "subcounts = df.groupby('sub')['count'].sum()\n",
    "print(f\"Loaded counts for {len(subcounts):,} distinct subs.\")\n",
    "\n",
    "subcounts.describe()"
   ]
  },
  {
   "cell_type": "code",
   "execution_count": 4,
   "id": "ahead-singapore",
   "metadata": {},
   "outputs": [
    {
     "data": {
      "text/plain": [
       "sub\n",
       "AskReddit                1054878.975\n",
       "politics                  469937.325\n",
       "AdviceAnimals             278841.225\n",
       "funny                     216604.200\n",
       "pics                      216472.200\n",
       "news                      214719.600\n",
       "worldnews                 200425.250\n",
       "The_Donald                184834.500\n",
       "videos                    154884.600\n",
       "nfl                       133592.375\n",
       "gaming                    129348.750\n",
       "nba                       125990.400\n",
       "todayilearned             123519.550\n",
       "WTF                       119175.150\n",
       "PublicFreakout            112766.750\n",
       "leagueoflegends           110895.300\n",
       "TumblrInAction            106506.175\n",
       "teenagers                  81710.950\n",
       "atheism                    80163.825\n",
       "SquaredCircle              73558.525\n",
       "ChapoTrapHouse             72815.325\n",
       "soccer                     72428.250\n",
       "relationships              71342.575\n",
       "memes                      70182.025\n",
       "AmItheAsshole              66542.750\n",
       "relationship_advice        65247.425\n",
       "hockey                     61860.800\n",
       "DotA2                      60148.275\n",
       "wallstreetbets             60102.300\n",
       "movies                     59640.275\n",
       "entitledparents            57982.100\n",
       "unpopularopinion           54894.850\n",
       "conspiracy                 53553.750\n",
       "gifs                       49109.100\n",
       "trashy                     47848.550\n",
       "dankmemes                  47841.350\n",
       "PoliticalHumor             44734.450\n",
       "MMA                        44504.300\n",
       "australia                  44428.850\n",
       "Libertarian                44048.850\n",
       "reddit.com                 43366.750\n",
       "IAmA                       42306.975\n",
       "CFB                        41818.625\n",
       "KotakuInAction             41493.250\n",
       "trees                      40479.250\n",
       "CringeAnarchy              39821.575\n",
       "PoliticalCompassMemes      39526.175\n",
       "hiphopheads                39338.375\n",
       "SubredditDrama             38893.575\n",
       "technology                 36801.625\n",
       "Name: count, dtype: float64"
      ]
     },
     "execution_count": 4,
     "metadata": {},
     "output_type": "execute_result"
    }
   ],
   "source": [
    "# Subs with most comments containing any of our compounds\n",
    "subcounts.sort_values(ascending=False).head(50)"
   ]
  }
 ],
 "metadata": {
  "kernelspec": {
   "display_name": "Python 3",
   "language": "python",
   "name": "python3"
  },
  "language_info": {
   "codemirror_mode": {
    "name": "ipython",
    "version": 3
   },
   "file_extension": ".py",
   "mimetype": "text/x-python",
   "name": "python",
   "nbconvert_exporter": "python",
   "pygments_lexer": "ipython3",
   "version": "3.7.5"
  }
 },
 "nbformat": 4,
 "nbformat_minor": 5
}
